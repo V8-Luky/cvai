{
 "cells": [
  {
   "cell_type": "code",
   "execution_count": null,
   "metadata": {},
   "outputs": [],
   "source": [
    "import cycleGAN\n",
    "from  tests.mock_dataset import MockDataModule"
   ]
  },
  {
   "cell_type": "code",
   "execution_count": null,
   "metadata": {},
   "outputs": [],
   "source": [
    "mock_datamodule = MockDataModule((1,3,128, 128), (1,3,128, 128),(1,3,128, 128),(1,3,128, 128), 1)"
   ]
  },
  {
   "cell_type": "markdown",
   "metadata": {},
   "source": [
    "# Example Training"
   ]
  },
  {
   "cell_type": "code",
   "execution_count": null,
   "metadata": {},
   "outputs": [],
   "source": [
    "training = cycleGAN.Training(\"sample-training\", cycleGAN.TrainableCycleGAN(cycleGAN.CycleGANConfig(), cycleGAN.TrainConfig()), mock_datamodule)"
   ]
  },
  {
   "cell_type": "code",
   "execution_count": null,
   "metadata": {},
   "outputs": [],
   "source": [
    "training()"
   ]
  },
  {
   "cell_type": "markdown",
   "metadata": {},
   "source": [
    "# Example Sweep"
   ]
  },
  {
   "cell_type": "code",
   "execution_count": null,
   "metadata": {},
   "outputs": [],
   "source": [
    "from cycleGAN.training_defaults import  ENTITY_NAME, PROJECT_NAME"
   ]
  },
  {
   "cell_type": "code",
   "execution_count": null,
   "metadata": {},
   "outputs": [],
   "source": [
    "sweep_config = {\n",
    "    \"name\": \"sample-sweep\",\n",
    "    \"method\": \"random\",\n",
    "    \"metric\": {\"name\": \"valid_loss\", \"goal\": \"minimize\"},\n",
    "    \"parameters\": {\n",
    "        \"max_epochs\": {\"value\": 200},\n",
    "        \"start_epoch\": {\"value\": 0},\n",
    "        \"decay_epoch\": {\"value\": 100},\n",
    "        \"learning_rate\": {\n",
    "            \"min\": 1e-5,\n",
    "            \"max\": 1e-3,\n",
    "            \"distribution\": \"log_uniform_values\",\n",
    "        },\n",
    "        \"lambda_a\": {\"values\": [10.0]},\n",
    "        \"lambda_b\": {\"values\": [10.0]},\n",
    "        \"lambda_identity\": {\"values\": [0.5]},\n",
    "    },\n",
    "}"
   ]
  },
  {
   "cell_type": "code",
   "execution_count": null,
   "metadata": {},
   "outputs": [],
   "source": [
    "sweep = cycleGAN.Sweep(\"sample-sweep\", PROJECT_NAME, ENTITY_NAME, cycleGAN.CycleGANConfig(), sweep_config, mock_datamodule, count=10)"
   ]
  },
  {
   "cell_type": "code",
   "execution_count": null,
   "metadata": {},
   "outputs": [],
   "source": [
    "sweep()"
   ]
  },
  {
   "cell_type": "markdown",
   "metadata": {},
   "source": [
    "# Example Evaluation"
   ]
  },
  {
   "cell_type": "code",
   "execution_count": null,
   "metadata": {},
   "outputs": [],
   "source": [
    "# This might still  be subject to change\n",
    "\n",
    "artifact_name = \"6jei9w9o\"\n",
    "artifact_version = \"v2\"\n",
    "artifact_path = f\"{ENTITY_NAME}/{PROJECT_NAME}/{artifact_name}:{artifact_version}\"\n",
    "\n",
    "evaluation = cycleGAN.Evaluation(\"sample-eval\", PROJECT_NAME, ENTITY_NAME, artifact_path, mock_datamodule)\n",
    "evaluation()"
   ]
  }
 ],
 "metadata": {
  "kernelspec": {
   "display_name": ".venv",
   "language": "python",
   "name": "python3"
  },
  "language_info": {
   "codemirror_mode": {
    "name": "ipython",
    "version": 3
   },
   "file_extension": ".py",
   "mimetype": "text/x-python",
   "name": "python",
   "nbconvert_exporter": "python",
   "pygments_lexer": "ipython3",
   "version": "3.12.3"
  }
 },
 "nbformat": 4,
 "nbformat_minor": 2
}
