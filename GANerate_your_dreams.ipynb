{
 "cells": [
  {
   "cell_type": "code",
   "execution_count": 1,
   "id": "106effcc-1012-42ef-8264-5c319095a440",
   "metadata": {},
   "outputs": [],
   "source": [
    "!pip install -q kagglehub torch lightning wandb"
   ]
  },
  {
   "cell_type": "code",
   "execution_count": 2,
   "id": "0600c5cd-3954-49ae-a809-f99bacfe4eec",
   "metadata": {},
   "outputs": [],
   "source": [
    "import os\n",
    "os.environ[\"PYTORCH_CUDA_ALLOC_CONF\"] = \"expandable_segments:True\""
   ]
  },
  {
   "cell_type": "markdown",
   "id": "66655d13-e3de-439f-b7d6-5fb38977da60",
   "metadata": {},
   "source": [
    "## Load dataset from Kaggle"
   ]
  },
  {
   "cell_type": "code",
   "execution_count": null,
   "id": "79836835-7099-4c61-9f94-a4b0a8089965",
   "metadata": {},
   "outputs": [],
   "source": [
    "from torchvision import transforms as T\n",
    "from kagglehub import dataset_download\n",
    "\n",
    "path = dataset_download(\"shubham1921/real-to-ghibli-image-dataset-5k-paired-images\")\n",
    "print(\"Path to dataset files:\", path)\n",
    "\n",
    "domain_a = f\"{path}/dataset/trainA\"\n",
    "domain_b = f\"{path}/dataset/trainB_ghibli\""
   ]
  },
  {
   "cell_type": "markdown",
   "id": "d50b0dd1-9bf5-4e7b-88ca-0c84613cf1ff",
   "metadata": {},
   "source": [
    "## Convert the data into Lightning Modules"
   ]
  },
  {
   "cell_type": "code",
   "execution_count": null,
   "id": "9d5bb31a-cc33-436c-9619-970f6d84b989",
   "metadata": {},
   "outputs": [],
   "source": [
    "from data.dataset import UnpairedImageDataset\n",
    "from data.datamodule import UnpairedDataModule\n",
    "\n",
    "datamodule = UnpairedDataModule(\n",
    "    domain_a_dir=domain_a,\n",
    "    domain_b_dir=domain_b,\n",
    "    batch_size=16,\n",
    "    num_workers=4\n",
    ")\n",
    "\n",
    "datamodule.setup()"
   ]
  },
  {
   "cell_type": "code",
   "execution_count": null,
   "id": "58144536-b42d-4c5f-8666-c65ce55fa8dc",
   "metadata": {},
   "outputs": [],
   "source": [
    "batch = next(iter(datamodule.train_dataloader()))\n",
    "print(\"Domain A batch shape:\", batch[\"a\"].shape)\n",
    "print(\"Domain B batch shape:\", batch[\"b\"].shape)"
   ]
  },
  {
   "cell_type": "markdown",
   "id": "3677e3ae-cc9b-4eab-bdd3-6c4bc666ef68",
   "metadata": {},
   "source": [
    "### Check resized image"
   ]
  },
  {
   "cell_type": "code",
   "execution_count": null,
   "id": "209f72c7-35fa-46eb-8075-b7105e1cffaf",
   "metadata": {},
   "outputs": [],
   "source": [
    "import matplotlib.pyplot as plt\n",
    "import torchvision.transforms.functional as TF\n",
    "\n",
    "def denormalize(tensor):\n",
    "    return tensor * 0.5 + 0.5 \n",
    "\n",
    "a_tensor = batch[\"a\"][0]\n",
    "b_tensor = batch[\"b\"][0]\n",
    "\n",
    "a_img = denormalize(a_tensor).permute(1, 2, 0).numpy()\n",
    "b_img = denormalize(b_tensor).permute(1, 2, 0).numpy()\n",
    "\n",
    "fig, axs = plt.subplots(1, 2, figsize=(8, 4))\n",
    "axs[0].imshow(a_img)\n",
    "axs[0].set_title(\"Sample from Domain A\")\n",
    "axs[0].axis(\"off\")\n",
    "\n",
    "axs[1].imshow(b_img)\n",
    "axs[1].set_title(\"Sample from Domain B\")\n",
    "axs[1].axis(\"off\")\n",
    "\n",
    "plt.tight_layout()\n",
    "plt.show()"
   ]
  },
  {
   "cell_type": "markdown",
   "id": "7871cfec-a303-4db5-9867-e88eec6687c6",
   "metadata": {},
   "source": [
    "# Training"
   ]
  },
  {
   "cell_type": "code",
   "execution_count": null,
   "id": "09948cc1",
   "metadata": {},
   "outputs": [],
   "source": [
    "import cycleGAN"
   ]
  },
  {
   "cell_type": "markdown",
   "id": "ced42f90",
   "metadata": {},
   "source": [
    "## Example Training"
   ]
  },
  {
   "cell_type": "code",
   "execution_count": null,
   "id": "9ea1ab95",
   "metadata": {},
   "outputs": [],
   "source": [
    "training = cycleGAN.Training(\"sample-training\", cycleGAN.TrainableCycleGAN(cycleGAN.CycleGANConfig(), cycleGAN.TrainConfig()), datamodule)"
   ]
  },
  {
   "cell_type": "code",
   "execution_count": null,
   "id": "afc94cac",
   "metadata": {},
   "outputs": [],
   "source": [
    "training()"
   ]
  },
  {
   "cell_type": "markdown",
   "id": "c851208a",
   "metadata": {},
   "source": [
    "## Example Sweep"
   ]
  },
  {
   "cell_type": "code",
   "execution_count": null,
   "id": "026dcac2",
   "metadata": {},
   "outputs": [],
   "source": [
    "from cycleGAN.training_defaults import  ENTITY_NAME, PROJECT_NAME"
   ]
  },
  {
   "cell_type": "code",
   "execution_count": null,
   "id": "7685f572",
   "metadata": {},
   "outputs": [],
   "source": [
    "sweep_config = {\n",
    "    \"name\": \"sweep-with-image-logs\",\n",
    "    \"method\": \"random\",\n",
    "    \"metric\": {\"name\": \"valid_loss\", \"goal\": \"minimize\"},\n",
    "    \"parameters\": {\n",
    "        \"max_epochs\": {\"value\": 50},\n",
    "        \"start_epoch\": {\"value\": 0},\n",
    "        \"decay_epoch\": {\"value\": 25},\n",
    "        \"learning_rate\": {\n",
    "            \"min\": 1e-6,\n",
    "            \"max\": 1e-4,\n",
    "            \"distribution\": \"log_uniform_values\",\n",
    "        },\n",
    "        \"lambda_a\": {\"values\": [10.0]},\n",
    "        \"lambda_b\": {\"values\": [10.0]},\n",
    "        \"lambda_identity\": {\"values\": [0.5]},\n",
    "    },\n",
    "}"
   ]
  },
  {
   "cell_type": "code",
   "execution_count": null,
   "id": "a637399d",
   "metadata": {},
   "outputs": [],
   "source": [
    "sweep = cycleGAN.Sweep(\"sample-sweep\", PROJECT_NAME, ENTITY_NAME, cycleGAN.CycleGANConfig(), sweep_config, datamodule, count=1)"
   ]
  },
  {
   "cell_type": "code",
   "execution_count": null,
   "id": "5223e48d",
   "metadata": {},
   "outputs": [],
   "source": [
    "sweep()"
   ]
  },
  {
   "cell_type": "markdown",
   "id": "e552d7f2",
   "metadata": {},
   "source": [
    "## Example Evaluation"
   ]
  },
  {
   "cell_type": "code",
   "execution_count": null,
   "id": "23c07f65",
   "metadata": {},
   "outputs": [],
   "source": [
    "# This might still  be subject to change\n",
    "\n",
    "artifact_name = \"model-ambawxot\"\n",
    "artifact_version = \"v3\"\n",
    "artifact_path = f\"{ENTITY_NAME}/{PROJECT_NAME}/{artifact_name}:{artifact_version}\"\n",
    "\n",
    "evaluation = cycleGAN.Evaluation(\"sample-eval\", PROJECT_NAME, ENTITY_NAME, artifact_path, datamodule)\n",
    "evaluation()"
   ]
  },
  {
   "cell_type": "code",
   "execution_count": null,
   "id": "b04744f3-44b8-4347-b50c-5d2ec6299ce0",
   "metadata": {},
   "outputs": [],
   "source": []
  }
 ],
 "metadata": {
  "kernelspec": {
   "display_name": "Python 3 (ipykernel)",
   "language": "python",
   "name": "python3"
  },
  "language_info": {
   "codemirror_mode": {
    "name": "ipython",
    "version": 3
   },
   "file_extension": ".py",
   "mimetype": "text/x-python",
   "name": "python",
   "nbconvert_exporter": "python",
   "pygments_lexer": "ipython3",
   "version": "3.12.9"
  }
 },
 "nbformat": 4,
 "nbformat_minor": 5
}
